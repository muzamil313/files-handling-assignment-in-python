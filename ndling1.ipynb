{
  "nbformat": 4,
  "nbformat_minor": 0,
  "metadata": {
    "colab": {
      "provenance": []
    },
    "kernelspec": {
      "name": "python3",
      "display_name": "Python 3"
    },
    "language_info": {
      "name": "python"
    }
  },
  "cells": [
    {
      "cell_type": "code",
      "execution_count": null,
      "metadata": {
        "id": "GJHvBOFpoUAp"
      },
      "outputs": [],
      "source": []
    },
    {
      "cell_type": "markdown",
      "source": [
        "Assignment files and exception handling\n",
        "\n",
        "1.What is the difference between interpreted and compiled languages?\n",
        "- In compiled languages, the entire source code is translated into machine code by a compiler before execution. This machine code is then run directly by the computer's CPU,while as  Interpreted languages execute code line-by-line using an interpreter, translating each instruction into machine code at runtime.\n",
        "\n",
        "2. What is exception handling in Python?\n",
        "- Exception handling is a mechanism that allows you to manage errors gracefully during program execution. Instead of abruptly terminating the program when an error occurs, Python provides constructs to catch and handle exceptions, enabling the program to continue running or to fail gracefully.\n",
        "\n",
        "3. What is the purpose of the finally block in exception handling?\n",
        "- In Python, the finally block is a crucial part of exception handling that ensures certain code executes regardless of whether an exception was raised or not. This guarantees that essential cleanup actions—like closing files, releasing resources, or resetting states—are performed, maintaining the program's stability and reliability.\n",
        "\n",
        "4. What is logging in Python?\n",
        "- In Python, logging refers to the process of recording events that occur during the execution of a program. This is achieved using the built-in logging module, which provides a flexible framework for emitting log messages from Python programs.\n",
        "\n",
        "5. What is the significance of the __del__ method in Python?\n",
        "- In Python, the __del__ method is a special instance method known as a finalizer. It is automatically invoked by the garbage collector when an object is about to be destroyed, allowing you to define custom cleanup actions such as releasing external resources like files, network connections, or database handles.\n",
        "\n",
        "6. What is the difference between import and from ... import in Python?\n",
        "- In Python, both import and from ... import statements are used to include external modules or specific attributes from modules into your current script. However, they differ in how they introduce these names into your namespace and how you access them thereafter.\n",
        "\n",
        "7.  How can you handle multiple exceptions in Python?\n",
        "- Here are several approaches to manage multiple exceptions effectively:\n",
        "\n",
        " Catching Multiple Exceptions in a Single except Block\n",
        "\n",
        " Using Multiple except Blocks for Different Exceptions\n",
        "\n",
        " Catching Exceptions Using a Common Base Class\n",
        "\n",
        "  Using contextlib.suppress() to Ignore Specific Exceptions\n",
        "\n",
        "\n",
        "8.  What is the purpose of the with statement when handling files in Python?\n",
        "- The with statement is used for resource management. When handling files, it ensures:\n",
        "\n",
        "Files are opened and closed correctly.\n",
        "\n",
        "Your code is concise and safer.\n",
        "\n",
        "You don't  forget to close the file manually.\n",
        "\n",
        "9. What is the difference between multithreading and multiprocessing?\n",
        "- Multithreading means running multiple threads (smaller units of a process) within the same process concurrently,while as multiprocessing means Running multiple processes independently and in parallel, each with its own Python interpreter and memory space.\n",
        "\n",
        "10.  What are the advantages of using logging in a program?\n",
        "\n",
        "- Advantages of using logging in program are given as\n",
        "\n",
        "  Persistent Record of Events\n",
        "\n",
        "  Debugging and Troubleshooting\n",
        "\n",
        "  Better Monitoring and Maintenance\n",
        "\n",
        "  Configurable Levels of Detail  etc.\n",
        "\n",
        "11. What is memory management in Python?\n",
        "-  Memory management in Python refers to how Python allocates, uses, and frees memory during the execution of a program. It ensures efficient use of memory resources and helps prevent memory leaks.\n",
        "\n",
        "12. What are the basic steps involved in exception handling in Python?\n",
        "\n",
        "- The basic steps involved in exception handling in Python are:\n",
        "\n",
        " 1. Write the code that might raise an exception inside a try block:\n",
        "\n",
        " 2. Use one or more except blocks to catch and handle specific exceptions:\n",
        "\n",
        " 3. Optionally use an else block:\n",
        "\n",
        " 4. Optionally use a finally block:\n",
        "\n",
        "\n",
        "13. Why is memory management important in Python?\n",
        "-  Memory management is important in Python because it ensures that your program runs efficiently, reliably, and without consuming excessive system resources\n",
        "\n",
        "14. What is the role of try and except in exception handling?\n",
        "\n",
        "- Role of try:\n",
        "  1. The try block contains code that might raise an exception during execution.\n",
        "\n",
        "  2. Python runs this code and watches for any errors.\n",
        "\n",
        "  3. If no exceptions occur, the try block completes normally.\n",
        "\n",
        "15.  How does Python's garbage collection system work?\n",
        "\n",
        "- Python’s garbage collection system automatically manages memory by identifying and freeing objects that are no longer needed, helping prevent memory leaks.\n",
        "\n",
        "16. What is the purpose of the else block in exception handling?\n",
        "\n",
        "- The else block in Python’s exception handling is an optional part that runs only if no exceptions were raised in the preceding try block.\n",
        "\n",
        "17. What are the common logging levels in Python?\n",
        "\n",
        "-  The common logging levels in Python’s logging module, in increasing order of severity, are: Debug, info, warning, Error and critical.\n",
        "\n",
        "18. What is the difference between os.fork() and multiprocessing in Python?\n",
        "\n",
        "-  os.fork() is a low-level system call (available mainly on Unix/Linux systems) that creates a new child process by duplicating the current process. The child is an exact copy of the parent at the moment of the fork, while as multiprocessing is a high-level Python module that abstracts process creation and management. It works on both Unix and Windows.\n",
        "\n",
        "19.  What is the importance of closing a file in Python?\n",
        "\n",
        "- Closing a file in Python is important because it ensures that system resources are properly released and that data is safely written and saved.\n",
        "\n",
        "20. What is the difference between file.read() and file.readline() in Python?\n",
        "\n",
        "-  file.read() Reads the entire file (or a specified number of bytes) into a single string, it is Useful when you want to read the whole content at once, while as file.readline() Reads just one line at a time, including the newline character \\n.Useful when reading a file line by line.\n",
        "\n",
        "21. What is the logging module in Python used for?\n",
        "\n",
        "-  The logging module in Python is used to track events that happen while a program runs. It provides a flexible way to record messages, such as errors, warnings, or other informational events, making debugging and monitoring easier.\n",
        "\n",
        "22. What is the os module in Python used for in file handling?\n",
        "\n",
        "-  The os module in Python is used for interacting with the operating system, and it's especially helpful in file handling tasks such as managing files and directories.\n",
        "\n",
        "23. What are the challenges associated with memory management in Python?\n",
        "\n",
        "- The challanges associated with memory management in python are as:  Reference Cycles,  Memory Leaks, Fragmentation,  Multithreading Does Not Improve Memory Efficiency etc.\n",
        "\n",
        "24.  How do you raise an exception manually in Python?\n",
        "\n",
        "- In Python, you can raise an exception manually using the raise keyword. This is useful when you want to signal an error condition intentionally in your code.\n",
        "\n",
        "25. Why is it important to use multithreading in certain applications?\n",
        "\n",
        "-  Using multithreading is important in certain applications because it allows programs to perform multiple tasks concurrently, improving efficiency, responsiveness, and overall user experience.\n",
        "\n",
        "\n",
        "\n",
        "\n",
        "\n",
        "\n"
      ],
      "metadata": {
        "id": "y7bkcN8Mog5Q"
      }
    },
    {
      "cell_type": "markdown",
      "source": [],
      "metadata": {
        "id": "fp7-qoY81HfL"
      }
    },
    {
      "cell_type": "code",
      "source": [
        "#1. How can you open a file for writing in Python and write a string to it?\n",
        "with open(\"example.txt\", \"w\") as file:\n",
        "    file.write(\"Hello, world!\")\n",
        "\n",
        "\n"
      ],
      "metadata": {
        "id": "GyoNU7CO7JXY"
      },
      "execution_count": 1,
      "outputs": []
    },
    {
      "cell_type": "code",
      "source": [
        "#2. Write a Python program to read the contents of a file and print each line?\n",
        "with open(\"example.txt\", \"r\") as file:\n",
        "    for line in file:\n",
        "        print(line.strip())\n",
        "        print(\"The file 'example.txt' was not found.\")\n"
      ],
      "metadata": {
        "colab": {
          "base_uri": "https://localhost:8080/"
        },
        "id": "MVYGHm-e7eKT",
        "outputId": "b0172a17-29e8-41dc-efbc-cd21d4261eb4"
      },
      "execution_count": 2,
      "outputs": [
        {
          "output_type": "stream",
          "name": "stdout",
          "text": [
            "Hello, world!\n",
            "The file 'example.txt' was not found.\n"
          ]
        }
      ]
    },
    {
      "cell_type": "code",
      "source": [
        "#3 How would you handle a case where the file doesn't exist while trying to open it for reading.\n",
        "try:\n",
        "    with open(\"nonexistent_file.txt\", \"r\") as file:\n",
        "        content = file.read()\n",
        "except FileNotFoundError:\n",
        "    print(\"The file 'nonexistent_file.txt' was not found.\")\n",
        "\n",
        "\n"
      ],
      "metadata": {
        "colab": {
          "base_uri": "https://localhost:8080/"
        },
        "id": "iNSqZVT98XRV",
        "outputId": "2f5435e0-2d95-4431-80db-37b97c21609c"
      },
      "execution_count": 3,
      "outputs": [
        {
          "output_type": "stream",
          "name": "stdout",
          "text": [
            "The file 'nonexistent_file.txt' was not found.\n"
          ]
        }
      ]
    },
    {
      "cell_type": "code",
      "source": [
        "#4. Write a Python script that reads from one file and writes its content to another file.\n",
        "with open(\"source.txt\", \"r\") as source_file:\n",
        "    content = source_file.read()\n",
        "    with open(\"destination.txt\", \"w\") as destination_file:\n",
        "        destination_file.write(content)\n",
        "        print(\"Content from 'source.txt' has been copied to 'destination.txt'.\")\n"
      ],
      "metadata": {
        "colab": {
          "base_uri": "https://localhost:8080/",
          "height": 211
        },
        "id": "gy8kOTPv9F5R",
        "outputId": "e2f30a59-16c1-4448-9120-39d1921246b4"
      },
      "execution_count": 7,
      "outputs": [
        {
          "output_type": "error",
          "ename": "FileNotFoundError",
          "evalue": "[Errno 2] No such file or directory: 'source.txt'",
          "traceback": [
            "\u001b[0;31m---------------------------------------------------------------------------\u001b[0m",
            "\u001b[0;31mFileNotFoundError\u001b[0m                         Traceback (most recent call last)",
            "\u001b[0;32m<ipython-input-7-98d41a86e474>\u001b[0m in \u001b[0;36m<cell line: 0>\u001b[0;34m()\u001b[0m\n\u001b[1;32m      1\u001b[0m \u001b[0;31m#4. Write a Python script that reads from one file and writes its content to another file.\u001b[0m\u001b[0;34m\u001b[0m\u001b[0;34m\u001b[0m\u001b[0m\n\u001b[0;32m----> 2\u001b[0;31m \u001b[0;32mwith\u001b[0m \u001b[0mopen\u001b[0m\u001b[0;34m(\u001b[0m\u001b[0;34m\"source.txt\"\u001b[0m\u001b[0;34m,\u001b[0m \u001b[0;34m\"r\"\u001b[0m\u001b[0;34m)\u001b[0m \u001b[0;32mas\u001b[0m \u001b[0msource_file\u001b[0m\u001b[0;34m:\u001b[0m\u001b[0;34m\u001b[0m\u001b[0;34m\u001b[0m\u001b[0m\n\u001b[0m\u001b[1;32m      3\u001b[0m     \u001b[0mcontent\u001b[0m \u001b[0;34m=\u001b[0m \u001b[0msource_file\u001b[0m\u001b[0;34m.\u001b[0m\u001b[0mread\u001b[0m\u001b[0;34m(\u001b[0m\u001b[0;34m)\u001b[0m\u001b[0;34m\u001b[0m\u001b[0;34m\u001b[0m\u001b[0m\n\u001b[1;32m      4\u001b[0m     \u001b[0;32mwith\u001b[0m \u001b[0mopen\u001b[0m\u001b[0;34m(\u001b[0m\u001b[0;34m\"destination.txt\"\u001b[0m\u001b[0;34m,\u001b[0m \u001b[0;34m\"w\"\u001b[0m\u001b[0;34m)\u001b[0m \u001b[0;32mas\u001b[0m \u001b[0mdestination_file\u001b[0m\u001b[0;34m:\u001b[0m\u001b[0;34m\u001b[0m\u001b[0;34m\u001b[0m\u001b[0m\n\u001b[1;32m      5\u001b[0m         \u001b[0mdestination_file\u001b[0m\u001b[0;34m.\u001b[0m\u001b[0mwrite\u001b[0m\u001b[0;34m(\u001b[0m\u001b[0mcontent\u001b[0m\u001b[0;34m)\u001b[0m\u001b[0;34m\u001b[0m\u001b[0;34m\u001b[0m\u001b[0m\n",
            "\u001b[0;31mFileNotFoundError\u001b[0m: [Errno 2] No such file or directory: 'source.txt'"
          ]
        }
      ]
    },
    {
      "cell_type": "code",
      "source": [
        "#5. How would you catch and handle division by zero error in Python?\n",
        "try:\n",
        "    result = 10 / 0\n",
        "except ZeroDivisionError:\n",
        "    print(\"Error: Division by zero is not allowed.\")\n"
      ],
      "metadata": {
        "colab": {
          "base_uri": "https://localhost:8080/"
        },
        "id": "14CxIfKn9nTV",
        "outputId": "0bc2c6e9-a699-4774-c0cd-b56fae787443"
      },
      "execution_count": 8,
      "outputs": [
        {
          "output_type": "stream",
          "name": "stdout",
          "text": [
            "Error: Division by zero is not allowed.\n"
          ]
        }
      ]
    },
    {
      "cell_type": "code",
      "source": [
        "#6.Write a Python program that logs an error message to a log file when a division by zero exception occurs.\n",
        "import logging\n",
        "\n",
        "logging.basicConfig(filename=\"error_log.txt\", level=logging.ERROR)\n",
        "\n",
        "try:\n",
        "    result = 10 / 0\n",
        "except ZeroDivisionError:\n",
        "    logging.error(\"Division by zero error occurred.\")\n",
        "\n"
      ],
      "metadata": {
        "colab": {
          "base_uri": "https://localhost:8080/"
        },
        "id": "5CDZl4yL-aKm",
        "outputId": "d34e7dbf-c3be-42b9-e413-6e42d8f732dc"
      },
      "execution_count": 9,
      "outputs": [
        {
          "output_type": "stream",
          "name": "stderr",
          "text": [
            "ERROR:root:Division by zero error occurred.\n"
          ]
        }
      ]
    },
    {
      "cell_type": "code",
      "source": [
        "#7.How do you log information at different levels (INFO, ERROR, WARNING) in Python using the logging module?\n",
        "import logging\n",
        "\n",
        "logging.basicConfig(level=logging.INFO)\n",
        "logging.info(\"This is an informational message.\")\n",
        "\n",
        "logging.warning(\"This is a warning message.\")\n",
        "\n",
        "logging.error(\"This is an error message.\")"
      ],
      "metadata": {
        "colab": {
          "base_uri": "https://localhost:8080/"
        },
        "id": "xqYRgXpl-u1v",
        "outputId": "9b90321a-486e-47a9-a0ad-2b4471007571"
      },
      "execution_count": 10,
      "outputs": [
        {
          "output_type": "stream",
          "name": "stderr",
          "text": [
            "WARNING:root:This is a warning message.\n",
            "ERROR:root:This is an error message.\n"
          ]
        }
      ]
    },
    {
      "cell_type": "code",
      "source": [
        "#8.Write a program to handle a file opening error using exception handling?\n",
        "\n",
        "try:\n",
        "    with open(\"nonexistent_file.txt\", \"r\") as file:\n",
        "        content = file.read()\n",
        "except FileNotFoundError:\n",
        "    print(\"The file 'nonexistent_file.txt' was not found.\")\n"
      ],
      "metadata": {
        "colab": {
          "base_uri": "https://localhost:8080/"
        },
        "id": "p9vYhmHp_ZDz",
        "outputId": "4cbf8147-df61-4861-b2a3-756b179cedca"
      },
      "execution_count": 11,
      "outputs": [
        {
          "output_type": "stream",
          "name": "stdout",
          "text": [
            "The file 'nonexistent_file.txt' was not found.\n"
          ]
        }
      ]
    },
    {
      "cell_type": "code",
      "source": [
        "#9. How can you read a file line by line and store its content in a list in Python.\n",
        "with open(\"example.txt\", \"r\") as file:\n",
        "    lines = file.readlines()\n",
        "    for line in lines:\n",
        "        print(line.strip())\n",
        "\n"
      ],
      "metadata": {
        "colab": {
          "base_uri": "https://localhost:8080/"
        },
        "id": "uaw4ss4R_0y6",
        "outputId": "807af471-b09b-443b-f869-06b51fe5bff0"
      },
      "execution_count": 12,
      "outputs": [
        {
          "output_type": "stream",
          "name": "stdout",
          "text": [
            "Hello, world!\n"
          ]
        }
      ]
    },
    {
      "cell_type": "code",
      "source": [
        "#10..How can you append data to an existing file in Python.\n",
        "\n",
        "with open(\"example.txt\", \"a\") as file:\n",
        "    file.write(\"\\nAppending some more content.\")"
      ],
      "metadata": {
        "id": "_vzyAOTgCEAv"
      },
      "execution_count": 13,
      "outputs": []
    },
    {
      "cell_type": "code",
      "source": [
        "#11. Write a Python program that uses a try-except block to handle an error when attempting to access a dictionary key that does not exist.\n",
        "try:\n",
        "    my_dict = {\"key\": \"value\"}\n",
        "    value = my_dict[\"nonexistent_key\"]\n",
        "except KeyError:\n",
        "    print(\"Error: The specified key does not exist in the dictionary.\")\n"
      ],
      "metadata": {
        "colab": {
          "base_uri": "https://localhost:8080/"
        },
        "id": "9hOtRc6fCSfS",
        "outputId": "21cd3389-8dae-4ddf-e0fc-196a94a3ec1c"
      },
      "execution_count": 14,
      "outputs": [
        {
          "output_type": "stream",
          "name": "stdout",
          "text": [
            "Error: The specified key does not exist in the dictionary.\n"
          ]
        }
      ]
    },
    {
      "cell_type": "code",
      "source": [
        "#12. Write a program that demonstrates using multiple except blocks to handle different types of exceptions?\n",
        "try:\n",
        "    result = 10 / 0\n",
        "except ZeroDivisionError:\n",
        "    print(\"Error: Division by zero is not allowed.\")\n",
        "except ValueError:\n",
        "    print(\"Error: Invalid value encountered.\")\n",
        "\n"
      ],
      "metadata": {
        "colab": {
          "base_uri": "https://localhost:8080/"
        },
        "id": "i46_o0VODIGe",
        "outputId": "8dbe07a1-9fbc-4b63-878d-2611ebb66bf4"
      },
      "execution_count": 15,
      "outputs": [
        {
          "output_type": "stream",
          "name": "stdout",
          "text": [
            "Error: Division by zero is not allowed.\n"
          ]
        }
      ]
    },
    {
      "cell_type": "code",
      "source": [
        "#13.How would you check if a file exists before attempting to read it in Python.\n",
        "import os\n",
        "\n",
        "if os.path.exists(\"example.txt\"):\n",
        "    with open(\"example.txt\", \"r\") as file:\n",
        "        content = file.read()\n",
        "        print(content)\n",
        "else:\n",
        "    print(\"The file 'example.txt' does not exist.\")\n"
      ],
      "metadata": {
        "colab": {
          "base_uri": "https://localhost:8080/"
        },
        "id": "M-5xsSh4DWff",
        "outputId": "dd800374-c065-4192-ad6d-f62f046d89bb"
      },
      "execution_count": 17,
      "outputs": [
        {
          "output_type": "stream",
          "name": "stdout",
          "text": [
            "Hello, world!\n",
            "Appending some more content.\n"
          ]
        }
      ]
    },
    {
      "cell_type": "code",
      "source": [
        "#14.Write a program that uses the logging module to log both informational and error messages.\n",
        "import logging\n",
        "\n",
        "logging.basicConfig(level=logging.INFO)\n",
        "logging.info(\"This is an informational message.\")\n",
        "\n",
        "logging.error(\"This is an error message.\")"
      ],
      "metadata": {
        "colab": {
          "base_uri": "https://localhost:8080/"
        },
        "id": "ptKmySFjHYC1",
        "outputId": "156161a9-2667-43cc-c0fc-1ce1fbf38e89"
      },
      "execution_count": 18,
      "outputs": [
        {
          "output_type": "stream",
          "name": "stderr",
          "text": [
            "ERROR:root:This is an error message.\n"
          ]
        }
      ]
    },
    {
      "cell_type": "code",
      "source": [
        "#15. Write a Python program that prints the content of a file and handles the case when the file is empty.\n",
        "try:\n",
        "    with open(\"example.txt\", \"r\") as file:\n",
        "        content = file.read()\n",
        "        if content:\n",
        "            print(content)\n",
        "        else:\n",
        "            print(\"The file is empty.\")\n",
        "\n",
        "except FileNotFoundError:\n",
        "    print(\"The file 'example.txt' was not found.\")\n",
        "\n"
      ],
      "metadata": {
        "colab": {
          "base_uri": "https://localhost:8080/"
        },
        "id": "LWFds4lEHpG4",
        "outputId": "778281e3-103a-41fa-be22-b491d20fc848"
      },
      "execution_count": 20,
      "outputs": [
        {
          "output_type": "stream",
          "name": "stdout",
          "text": [
            "Hello, world!\n",
            "Appending some more content.\n"
          ]
        }
      ]
    },
    {
      "cell_type": "code",
      "source": [
        "#16 Write a Python program to create and write a list of numbers to a file, one number per line.\n",
        "with open(\"numbers.txt\", \"w\") as file:\n",
        "    numbers = [1, 2, 3, 4, 5]\n",
        "    for number in numbers:\n",
        "        file.write(str(number) + \"\\n\")\n",
        "        print(\"List of numbers has been written to 'numbers.txt'.\")\n"
      ],
      "metadata": {
        "colab": {
          "base_uri": "https://localhost:8080/"
        },
        "id": "5IGStqcdLlch",
        "outputId": "2a853292-bcb8-4157-e016-17416f83f9da"
      },
      "execution_count": 29,
      "outputs": [
        {
          "output_type": "stream",
          "name": "stdout",
          "text": [
            "List of numbers has been written to 'numbers.txt'.\n",
            "List of numbers has been written to 'numbers.txt'.\n",
            "List of numbers has been written to 'numbers.txt'.\n",
            "List of numbers has been written to 'numbers.txt'.\n",
            "List of numbers has been written to 'numbers.txt'.\n"
          ]
        }
      ]
    },
    {
      "cell_type": "code",
      "source": [
        "#17.  How would you implement a basic logging setup that logs to a file with rotation after 1MB.\n",
        "import logging\n",
        "from logging.handlers import RotatingFileHandler\n",
        "\n",
        "logging.basicConfig(level=logging.INFO)\n",
        "handler = RotatingFileHandler(\"app.log\", maxBytes=1000000, backupCount=5)\n",
        "handler.setFormatter(logging.Formatter(\"%(asctime)s - %(levelname)s - %(message)s\"))\n",
        "logging.getLogger().addHandler(handler)\n",
        "logging.info(\"This is an informational message.\")\n",
        "\n",
        "\n",
        "\n",
        "\n"
      ],
      "metadata": {
        "id": "R0Va0mqkMDH3"
      },
      "execution_count": 34,
      "outputs": []
    },
    {
      "cell_type": "code",
      "source": [
        "\n",
        "#18.Write a program that handles both IndexError and KeyError using a try-except block.\n",
        "try:\n",
        "    my_list = [1, 2, 3]\n",
        "    value = my_list[3]\n",
        "except IndexError:\n",
        "    print(\"Error: Index is out of range.\")\n",
        "\n",
        "\n"
      ],
      "metadata": {
        "colab": {
          "base_uri": "https://localhost:8080/"
        },
        "id": "VsUQQWaXMZ9q",
        "outputId": "e7f0b7fd-7263-40bd-9d98-38dbe8bd4d91"
      },
      "execution_count": 35,
      "outputs": [
        {
          "output_type": "stream",
          "name": "stdout",
          "text": [
            "Error: Index is out of range.\n"
          ]
        }
      ]
    },
    {
      "cell_type": "code",
      "source": [
        "#19.How would you open a file and read its contents using a context manager in Python.\n",
        "with open(\"example.txt\", \"r\") as file:\n",
        "    content = file.read()\n",
        "    print(content)"
      ],
      "metadata": {
        "colab": {
          "base_uri": "https://localhost:8080/"
        },
        "id": "o0MVyX0qNu2-",
        "outputId": "4fa8b7eb-d890-4a7e-a21d-bab306266f00"
      },
      "execution_count": 36,
      "outputs": [
        {
          "output_type": "stream",
          "name": "stdout",
          "text": [
            "Hello, world!\n",
            "Appending some more content.\n"
          ]
        }
      ]
    },
    {
      "cell_type": "code",
      "source": [
        "#20.Write a Python program that reads a file and prints the number of occurrences of a specific word\n",
        "with open(\"example.txt\", \"r\") as file:\n",
        "    content = file.read()\n",
        "    word_count = content.count(\"Python\")\n",
        "    print(\"Number of occurrences of 'Python':\", word_count)\n",
        "\n",
        "\n"
      ],
      "metadata": {
        "colab": {
          "base_uri": "https://localhost:8080/"
        },
        "id": "7r5Tyy0sN7LQ",
        "outputId": "08ac519b-4a33-4951-f14d-e34e9be84c63"
      },
      "execution_count": 37,
      "outputs": [
        {
          "output_type": "stream",
          "name": "stdout",
          "text": [
            "Number of occurrences of 'Python': 0\n"
          ]
        }
      ]
    },
    {
      "cell_type": "code",
      "source": [
        "#21. How can you check if a file is empty before attempting to read its contents.\n",
        "with open(\"example.txt\", \"r\") as file:\n",
        "    content = file.read()\n",
        "    if content:\n",
        "        print(content)\n",
        "    else:\n",
        "        print(\"The file is empty.\")"
      ],
      "metadata": {
        "colab": {
          "base_uri": "https://localhost:8080/"
        },
        "id": "ljgspb1_OeyU",
        "outputId": "14bd3979-ef96-43f3-e387-003d7bcb3f78"
      },
      "execution_count": 38,
      "outputs": [
        {
          "output_type": "stream",
          "name": "stdout",
          "text": [
            "Hello, world!\n",
            "Appending some more content.\n"
          ]
        }
      ]
    },
    {
      "cell_type": "code",
      "source": [
        "#23.Write a Python program that writes to a log file when an error occurs during file handling\n",
        "import logging\n",
        "\n",
        "logging.basicConfig(filename=\"error_log.txt\", level=logging.ERROR)\n",
        "\n",
        "try:\n",
        "    with open(\"nonexistent_file.txt\", \"r\") as file:\n",
        "        content = file.read()\n",
        "except FileNotFoundError:\n",
        "    logging.error(\"Error: The file 'nonexistent_file.txt' was not found.\")\n",
        "    print(\"The file 'nonexistent_file.txt' was not found.\")\n"
      ],
      "metadata": {
        "colab": {
          "base_uri": "https://localhost:8080/"
        },
        "id": "Z0IVy6qCOviU",
        "outputId": "d6e2dac2-21c5-47fe-d126-c3e6f903e2a1"
      },
      "execution_count": 39,
      "outputs": [
        {
          "output_type": "stream",
          "name": "stderr",
          "text": [
            "ERROR:root:Error: The file 'nonexistent_file.txt' was not found.\n"
          ]
        },
        {
          "output_type": "stream",
          "name": "stdout",
          "text": [
            "The file 'nonexistent_file.txt' was not found.\n"
          ]
        }
      ]
    },
    {
      "cell_type": "code",
      "source": [],
      "metadata": {
        "id": "d-IH5Ty-PBpM"
      },
      "execution_count": null,
      "outputs": []
    }
  ]
}